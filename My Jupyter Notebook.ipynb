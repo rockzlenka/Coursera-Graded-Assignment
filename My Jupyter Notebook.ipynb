{
 "cells": [
  {
   "cell_type": "markdown",
   "id": "0f182074-dcd6-4904-bedc-8465eb0768ff",
   "metadata": {},
   "source": [
    "# My Jupyter Notebook on IBM Watson Studio"
   ]
  },
  {
   "cell_type": "markdown",
   "id": "595942dc-fe72-4c8e-aeb9-722b74f2006c",
   "metadata": {},
   "source": [
    "__Aditya Narayan Lenka__  \n",
    "Senior Data Scientist"
   ]
  },
  {
   "cell_type": "markdown",
   "id": "4c4fdcca-a3b4-4981-93f2-a486b432e631",
   "metadata": {},
   "source": [
    "_I am interested in data science because, data is the new gold mine of 21st century. By getting proper insights from data, it can be used solve bigger problem in the field of business and other fields as well._"
   ]
  },
  {
   "cell_type": "markdown",
   "id": "5ef29a69-16d5-40a6-9894-b08877a59d80",
   "metadata": {},
   "source": [
    "### In the below cell, I am going make a simple addition."
   ]
  },
  {
   "cell_type": "code",
   "execution_count": 6,
   "id": "d7e5793a-0eff-4288-aa9c-7324a0fb0ff4",
   "metadata": {},
   "outputs": [
    {
     "name": "stdout",
     "output_type": "stream",
     "text": [
      "30\n"
     ]
    }
   ],
   "source": [
    "a=12\n",
    "b=18\n",
    "c=(a+b)\n",
    "print(c)"
   ]
  },
  {
   "cell_type": "markdown",
   "id": "4f2ee87b-e728-4df2-8fd7-2fc755024d43",
   "metadata": {},
   "source": [
    "Programming Languages:  \n",
    "* Python\n",
    "* R  \n",
    "\n",
    "Other Languages\n",
    "1. SQL\n",
    "2. ~~PHP~~  \n",
    "\n",
    "My LinkedIn Profile  \n",
    "[Aditya Narayan Lenka](https://www.linkedin.com/in/rockzlenka)"
   ]
  }
 ],
 "metadata": {
  "kernelspec": {
   "display_name": "Python",
   "language": "python",
   "name": "conda-env-python-py"
  },
  "language_info": {
   "codemirror_mode": {
    "name": "ipython",
    "version": 3
   },
   "file_extension": ".py",
   "mimetype": "text/x-python",
   "name": "python",
   "nbconvert_exporter": "python",
   "pygments_lexer": "ipython3",
   "version": "3.7.12"
  }
 },
 "nbformat": 4,
 "nbformat_minor": 5
}
